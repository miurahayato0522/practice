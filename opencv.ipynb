{
 "cells": [
  {
   "cell_type": "markdown",
   "id": "41be5d13-6e28-4dcf-9cb2-09aec08c63c2",
   "metadata": {},
   "source": [
    "### 描画系"
   ]
  },
  {
   "cell_type": "code",
   "execution_count": 177,
   "id": "47e059dd-b614-417a-80d5-b9150c54f9b1",
   "metadata": {},
   "outputs": [],
   "source": [
    "import cv2\n",
    "import numpy as np\n",
    "\n",
    "# ベースの画像を作る\n",
    "#img = np.zeros((500, 500, 3),np.uint8)\n",
    "img = np.full((500, 500, 3), 128, np.uint8)\n",
    "\n",
    "# 線を引く(img, 始点座標, 終点座標, 色, 線の太さ)\n",
    "cv2.line(img, (150, 50), (400, 400), (0, 0, 255), thickness = 3)\n",
    "\n",
    "# 矩形(img, 左上頂点座標, 右下頂点座標, 色, 線の太さ(-1:塗りつぶし))\n",
    "cv2.rectangle(img, (100, 50), (400, 400), (255, 0, 0), 5)\n",
    "\n",
    "# 円(img, 中心座標, 半径, 色, 線の太さ(-1:塗りつぶし))\n",
    "cv2.circle(img, (250,250),80,(0,255,0), -1)\n",
    "\n",
    "# 矢印(img, 始点座標, 終点座標, 色, 線の太さ)\n",
    "cv2.arrowedLine(img, (50, 80), (125, 130), (0, 255, 0), 10)\n",
    "\n",
    "# 楕円(img, 中心座標, 各方向の長さ(径), 色, 線の太さ)\n",
    "cv2.ellipse(img, ((150, 150), (30, 160), 0), (0, 255, 255), 5)\n",
    "\n",
    "# 円弧(img, 始点座標, 各方向半径, 円弧角度, 始まり角度, 終わり角度, 色, 線の太さ)\n",
    "cv2.ellipse(img, (200, 400), (50, 30), 0, 0, 270, (255, 255, 255), 3)\n",
    "\n",
    "# マーカー(img, マーカー中心座標,　色, マーカーのタイプ, マーカーサイズ)\n",
    "cv2.drawMarker(img, (350, 200), (0, 255, 255), markerType=cv2.MARKER_STAR, markerSize = 30)\n",
    "cv2.drawMarker(img, (350, 250), (0, 255, 255), markerType=cv2.MARKER_TILTED_CROSS, markerSize = 30)\n",
    "\n",
    "\n",
    "# 折れ線(img, 各頂点座標, Trueで始点と終点を繋げる, 色, 線の太さ)\n",
    "polylinecoord = np.array([[300, 100], [300, 150], [350, 125]])\n",
    "cv2.polylines(img, [polylinecoord], False, (255, 255, 255), 2)\n",
    "\n",
    "# 多角形(img, 各頂点座標, 色)\n",
    "pts = np.array(((350, 50), (350, 100), (400, 75)))\n",
    "cv2.fillPoly(img, [pts], (255, 255, 255))\n",
    "\n",
    "# 凸な多角形を描画(fillPolyとほぼ同じ？だが凸面用)\n",
    "pts = np.array([[80, 80], [100, 100], [120, 100], [150, 90], [120, 50]])\n",
    "cv2.fillConvexPoly(img, pts, color=(0, 255, 0))\n",
    "\n",
    "# テキストを書く(img, テキスト, フォント, サイズ,　色, 文字太さ)\n",
    "cv2.putText(img, 'Deep Learning', (150, 450), cv2.FONT_HERSHEY_SIMPLEX, 1.0, (255, 255, 255), 2)\n",
    "\n",
    "cv2.imwrite('./pic1.png', img)\n",
    "cv2.imshow('img',img)\n",
    "\n",
    "# 0キーで描画画面閉じる\n",
    "cv2.waitKey(0)\n",
    "cv2.destroyAllWindows()"
   ]
  },
  {
   "cell_type": "markdown",
   "id": "e9f6f397-04e0-45bd-8bc3-e68cc1b2bb9a",
   "metadata": {},
   "source": [
    "画像を読み込めば、その上に描画ができる。"
   ]
  },
  {
   "cell_type": "code",
   "execution_count": 178,
   "id": "84636ff1-d3eb-4310-9d4d-328706d3642b",
   "metadata": {},
   "outputs": [],
   "source": [
    "# 画像読み込み\n",
    "img = cv2.imread('./irasutoya.png')\n",
    "\n",
    "# テキストを書く\n",
    "cv2.putText(img, 'AI*HUMAN', (125, 350), cv2.FONT_HERSHEY_SIMPLEX, 1.0, (0, 255, 0), 3)\n",
    "# 頑張ってハートを作る\n",
    "cv2.ellipse(img, (197, 160), (10, 10), 180, -10, 160, (0, 255, 0),2)\n",
    "cv2.ellipse(img, (213, 160), (10, 10), 180, 20, 190, (0, 255, 0),2)\n",
    "pts = np.array([[187, 163], [205, 185], [222, 163]])\n",
    "cv2.polylines(img, [pts], False, (0, 255, 0), thickness=2)\n",
    "cv2.imwrite('./pic1.png', img)\n",
    "cv2.imshow('img', img)\n",
    "\n",
    "cv2.waitKey(0)\n",
    "cv2.destroyAllWindows()"
   ]
  },
  {
   "cell_type": "markdown",
   "id": "9704659f-67f8-47cc-a2de-fbf46f6e75b8",
   "metadata": {},
   "source": [
    "### 変換系"
   ]
  },
  {
   "cell_type": "markdown",
   "id": "298fe839-ddb7-4e79-a179-35dc556e978c",
   "metadata": {},
   "source": [
    "画像の拡大縮小、回転、平行移動などを行列を使って座標を変換する事をアフィン変換"
   ]
  },
  {
   "cell_type": "code",
   "execution_count": 10,
   "id": "96e2b494-39a7-4d91-a703-eca5a3cdcb17",
   "metadata": {},
   "outputs": [],
   "source": [
    "# フリップ（反転）\n",
    "img = cv2.imread('./irasutoya2.png')\n",
    "\n",
    "# 0:上下反転, 1:左右反転, -1:対角反転\n",
    "img_flip1 = cv2.flip(img, 0)\n",
    "img_flip2 = cv2.flip(img, 1)\n",
    "img_flip3 = cv2.flip(img, -1)\n",
    "# 画像をまとめる\n",
    "img_flip_all = np.hstack((img, img_flip1, img_flip2, img_flip3))\n",
    "\n",
    "# 画像を保存、表示\n",
    "cv2.imwrite('./pic1.jpg', img_flip_all)\n",
    "cv2.imshow('img',img_flip_all)\n",
    "\n",
    "cv2.waitKey(0)\n",
    "cv2.destroyAllWindows()"
   ]
  },
  {
   "cell_type": "code",
   "execution_count": 41,
   "id": "4153a9fc-b189-40fc-8510-bbc1650ddb50",
   "metadata": {},
   "outputs": [],
   "source": [
    "# 画像読込\n",
    "img = cv2.imread('./free_pic.jpg')\n",
    "\n",
    "# 画像の縦横サイズ(高さ、幅、3(BGR))を取得\n",
    "height = img.shape[0]\n",
    "width = img.shape[1]\n",
    "\n",
    "# リサイズ (リサイズカッコ内は幅、高さ)\n",
    "img_resize1 = cv2.resize(img, (int(width*0.5), int(height*0.5)))\n",
    "# 上記はこのコードでも同じ\n",
    "# img_resize1 = cv2.resize(img, None, fx=0.5, fy=0.5)\n",
    "\n",
    "img_resize2 = cv2.resize(img, (int(width*0.8), int(height*0.3)))\n",
    "img_resize3 = cv2.resize(img, (500, 500))\n",
    "\n",
    "cv2.imshow('img0',img)\n",
    "cv2.imshow('img1',img_resize1)\n",
    "cv2.imshow('img2',img_resize2)\n",
    "cv2.imshow('img3',img_resize3)\n",
    "\n",
    "cv2.imwrite('./pic1.jpg', img)\n",
    "cv2.imwrite('./pic2.jpg', img_resize1)\n",
    "cv2.imwrite('./pic3.jpg', img_resize2)\n",
    "cv2.imwrite('./pic4.jpg', img_resize3)\n",
    "\n",
    "cv2.waitKey(0)\n",
    "cv2.destroyAllWindows()"
   ]
  },
  {
   "cell_type": "code",
   "execution_count": 46,
   "id": "08b251ef-3553-48fc-ad6e-560ab5562dac",
   "metadata": {},
   "outputs": [
    {
     "name": "stdout",
     "output_type": "stream",
     "text": [
      "1920\n",
      "1280\n",
      "(1280, 1920, 3)\n"
     ]
    }
   ],
   "source": [
    "img = cv2.imread('./free_pic.jpg')\n",
    "\n",
    "# 画像の縦横サイズを取得\n",
    "height = img.shape[0]\n",
    "width = img.shape[1]\n",
    "  \n",
    "#回転の中心定義                        \n",
    "center = (int(width/2), int(height/2))\n",
    "\n",
    "# 回転(中心座標、回転角度、スケール)\n",
    "rot60 = cv2.getRotationMatrix2D(center, 60, 1.0)\n",
    "#アフィン変換, warpAffine内最後の(width, height)は変換後画像サイズ\n",
    "img_rot = cv2.warpAffine(img, rot60, (width,height))\n",
    "\n",
    "# 画像の保存と表示\n",
    "cv2.imwrite('./pic1.jpg', img_rot)\n",
    "cv2.imshow('img',img_rot)\n",
    "\n",
    "cv2.waitKey(0)\n",
    "cv2.destroyAllWindows()"
   ]
  },
  {
   "cell_type": "code",
   "execution_count": 131,
   "id": "0f0feead-b18b-43dd-8c9c-c2ee6e768705",
   "metadata": {},
   "outputs": [],
   "source": [
    "img = cv2.imread('./free_pic.jpg')\n",
    "\n",
    "# 画像の縦横サイズを取得\n",
    "height = img.shape[0]\n",
    "width = img.shape[1]\n",
    "  \n",
    "# 変換する前の四隅の座標                       \n",
    "p1 = np.array([0, 0])\n",
    "p2 = np.array([0, width])\n",
    "p3 = np.array([height, width])\n",
    "p4 = np.array([height, 0])\n",
    "img_before = np.float32([p1, p2, p3, p4])\n",
    "\n",
    "# 変換後の四隅の座標\n",
    "q1 = np.array([height/4, width/4])\n",
    "q2 = np.array([0, width])\n",
    "q3 = np.array([height-height/4, width-width/4])\n",
    "q4 = np.array([height, 0])\n",
    "img_after = np.float32([q1, q2, q3, q4])\n",
    "\n",
    "# 射影変換\n",
    "perspective_mtx = cv2.getPerspectiveTransform(img_before, img_after)\n",
    "img_perspective = cv2.warpPerspective(img, perspective_mtx, (int(width*2), int(height*2)))\n",
    "\n",
    "cv2.imwrite('./pic1.jpg', img_perspective)\n",
    "cv2.imshow('img',img_perspective)\n",
    "\n",
    "cv2.waitKey(0)\n",
    "cv2.destroyAllWindows()"
   ]
  },
  {
   "cell_type": "code",
   "execution_count": 50,
   "id": "7e125a87-a8aa-4269-91f4-a1fd8ffe2d4b",
   "metadata": {},
   "outputs": [],
   "source": [
    "img = cv2.imread('./free_pic.jpg')\n",
    "\n",
    "# 画像の縦横サイズを取得\n",
    "width = img.shape[0]\n",
    "height = img.shape[1]\n",
    "  \n",
    "#回転の中心定義                        \n",
    "center = (int(width/2), int(height/2))\n",
    "\n",
    "#トリミング\n",
    "img_tri = img[center[0]-400:center[0]+400, center[1]-400:center[1]+400]\n",
    "\n",
    "# 保存と描画\n",
    "cv2.imwrite('./pic1.jpg', img_tri)\n",
    "cv2.imshow('pic1',img_tri)\n",
    "\n",
    "cv2.waitKey(0)\n",
    "cv2.destroyAllWindows()"
   ]
  },
  {
   "cell_type": "markdown",
   "id": "b16331e4-12db-46cf-b05c-92b948534730",
   "metadata": {},
   "source": [
    "### 色処理"
   ]
  },
  {
   "cell_type": "code",
   "execution_count": 48,
   "id": "66d152f0-8148-4497-b4d2-e9fe7af6058a",
   "metadata": {},
   "outputs": [],
   "source": [
    "# グレイスケール\n",
    "\n",
    "# 画像を読み込むときに白黒\n",
    "# img_gray = cv2.imread('./free_pic.jpg', cv2.IMREAD_GRAYSCALE)\n",
    "\n",
    "# カラー画像として読み込んだ後に白黒\n",
    "img = cv2.imread('./free_pic.jpg')\n",
    "img_gray = cv2.cvtColor(img, cv2.COLOR_RGB2GRAY)\n",
    "\n",
    "cv2.imshow('img',img_gray)\n",
    "\n",
    "cv2.waitKey(0)\n",
    "cv2.destroyAllWindows()"
   ]
  },
  {
   "cell_type": "code",
   "execution_count": 55,
   "id": "da5e45cf-35b1-4994-8308-ae7b2ee8ec9e",
   "metadata": {},
   "outputs": [],
   "source": [
    "# 閾値処理\n",
    "\n",
    "img_gray = cv2.imread('./free_pic2.jpg', cv2.IMREAD_GRAYSCALE)\n",
    "\n",
    "# threshold(img, 閾値, 閾値処理の最大値, 閾値種類), 出力は2つ。retは大津の二値化に用いる。\n",
    "ret,thresh = cv2.threshold(img_gray, 127, 255, cv2.THRESH_BINARY)\n",
    "\n",
    "# adaptiveThreshold(img, 閾値処理の最大値, 適応的閾値アルゴリズム(2種類ある), 閾値種類, x近傍, y近傍)\n",
    "thresh = cv2.adaptiveThreshold(img_gray, 255, cv2.ADAPTIVE_THRESH_GAUSSIAN_C, cv2.THRESH_BINARY, 7, 7)\n",
    "\n",
    "cv2.imshow('img',thresh)\n",
    "cv2.imwrite('./pic1.jpg', thresh)\n",
    "\n",
    "cv2.waitKey(0)\n",
    "cv2.destroyAllWindows()\n",
    "\n"
   ]
  },
  {
   "cell_type": "code",
   "execution_count": 50,
   "id": "b8e749d1-92ab-47af-aa09-e09fcc8be82b",
   "metadata": {},
   "outputs": [],
   "source": [
    "# 色反転処理\n",
    "\n",
    "# 画像読込\n",
    "img = cv2.imread('./free_pic.jpg')\n",
    "# 色反転\n",
    "img_rev = cv2.bitwise_not(img)\n",
    "\n",
    "# 表示と保存\n",
    "cv2.imshow('img',img_rev)\n",
    "cv2.imwrite('./pic1.jpg', img_rev)\n",
    "\n",
    "cv2.waitKey(0)\n",
    "cv2.destroyAllWindows()\n"
   ]
  },
  {
   "cell_type": "markdown",
   "id": "3e2ec2c8-bd10-42d2-85bf-8c6072a4b771",
   "metadata": {},
   "source": [
    "### 各種平滑化処理"
   ]
  },
  {
   "cell_type": "code",
   "execution_count": 51,
   "id": "b6a2af21-bb44-4440-a0b2-51469a071bbc",
   "metadata": {},
   "outputs": [],
   "source": [
    "# 画像読込\n",
    "img = cv2.imread('./free_pic.jpg', cv2.IMREAD_GRAYSCALE)\n",
    "\n",
    "# 輝度平滑化\n",
    "img_equal = cv2.equalizeHist(img)\n",
    "\n",
    "# 表示と保存\n",
    "\n",
    "cv2.imwrite('./pic1.jpg', img_equal)\n",
    "cv2.imshow('img',img_equal)\n",
    "\n",
    "cv2.imwrite('./pic2.jpg', img)\n",
    "cv2.imshow('img2',img)\n",
    "\n",
    "cv2.waitKey(0)\n",
    "cv2.destroyAllWindows()"
   ]
  },
  {
   "cell_type": "code",
   "execution_count": 52,
   "id": "6a3bfc37-6ef6-4958-8217-fb9229c04575",
   "metadata": {},
   "outputs": [],
   "source": [
    "# 画像読込\n",
    "img = cv2.imread('./free_pic.jpg')\n",
    "\n",
    "# ブラー処理(カーネルサイズを指定)\n",
    "img_blur = cv2.blur(img, (30, 30))\n",
    "\n",
    "# 表示と保存\n",
    "\n",
    "cv2.imwrite('./pic1.jpg', img_blur)\n",
    "cv2.imshow('img',img_blur)\n",
    "\n",
    "cv2.waitKey(0)\n",
    "cv2.destroyAllWindows()"
   ]
  },
  {
   "cell_type": "code",
   "execution_count": 27,
   "id": "0fe8cc13-c7ba-4ada-957d-82848e788b90",
   "metadata": {},
   "outputs": [],
   "source": [
    "# 画像読込\n",
    "img = cv2.imread('./free_pic.jpg')\n",
    "\n",
    "# ブラー処理(カーネルサイズを指定)\n",
    "img_medianblur = cv2.medianBlur(img, 11)\n",
    "\n",
    "# 表示と保存\n",
    "\n",
    "cv2.imwrite('./pic1.jpg', img_medianblur)\n",
    "cv2.imshow('img',img_medianblur)\n",
    "\n",
    "cv2.waitKey(0)\n",
    "cv2.destroyAllWindows()"
   ]
  },
  {
   "cell_type": "code",
   "execution_count": 34,
   "id": "344fd837-0f7d-4315-baa1-76cc573b7feb",
   "metadata": {},
   "outputs": [],
   "source": [
    "# 画像読込\n",
    "img = cv2.imread('./free_pic.jpg')\n",
    "\n",
    "# ガウシアンブラー処理(img, カーネルサイズ, 横方向標準偏差, 縦方向標準偏差)\n",
    "img_gaussianblur = cv2.GaussianBlur(img, (11, 13), 15, 15)\n",
    "\n",
    "# 表示と保存\n",
    "\n",
    "cv2.imwrite('./pic1.jpg', img_gaussianblur)\n",
    "cv2.imshow('img',img_img_gaussianblur)\n",
    "\n",
    "cv2.waitKey(0)\n",
    "cv2.destroyAllWindows()"
   ]
  },
  {
   "cell_type": "code",
   "execution_count": null,
   "id": "932e8f5f-9556-40c6-8577-58a3211d2a3d",
   "metadata": {},
   "outputs": [],
   "source": [
    "# 画像の膨張\n",
    "# 画素の欠損補完やノイズ除去\n",
    "kernel = np.ones((3, 3), np.uint8)\n",
    "dst = cv2.dilate(img, kernel)\n"
   ]
  },
  {
   "cell_type": "code",
   "execution_count": 43,
   "id": "dfd84c72-143d-4155-abb4-c5a96e036e42",
   "metadata": {},
   "outputs": [],
   "source": [
    "# モザイク処理\n",
    "\n",
    "# 画像読込\n",
    "img = cv2.imread('./free_pic.jpg')\n",
    "\n",
    "# 画像の縦横サイズ(高さ、幅、3(BGR))を取得\n",
    "height = img.shape[0]\n",
    "width = img.shape[1]\n",
    "\n",
    "# 画像サイズを縮小した後、元サイズに戻すことでモザイク処理\n",
    "img_resize_small = cv2.resize(img, (int(width*0.05), int(height*0.05)))\n",
    "img_resize_return = cv2.resize(img_resize_small, (width, height))\n",
    "\n",
    "cv2.imwrite('./pic1.jpg', img_resize_return)\n",
    "cv2.imshow('img',img_resize_return)\n",
    "\n",
    "cv2.waitKey(0)\n",
    "cv2.destroyAllWindows()"
   ]
  },
  {
   "cell_type": "code",
   "execution_count": 47,
   "id": "532c309c-146a-4d20-8819-54e7d4986e28",
   "metadata": {},
   "outputs": [],
   "source": [
    "# 画像読込\n",
    "img = cv2.imread('./free_pic.jpg')\n",
    "\n",
    "# カーネルサイズ\n",
    "kernel = np.ones((4,4),np.uint8)\n",
    "# 収縮\n",
    "img_erode = cv2.erode(img, kernel, iterations = 1)\n",
    "# 膨張\n",
    "img_dilate = cv2.dilate(img, kernel, iterations = 1)\n",
    "\n",
    "cv2.imwrite('./pic1.jpg', img_erode)\n",
    "cv2.imshow('img', img_erode)\n",
    "cv2.imwrite('./pic2.jpg', img_dilate)\n",
    "cv2.imshow('img2', img_dilate)\n",
    "\n",
    "cv2.waitKey(0)\n",
    "cv2.destroyAllWindows()"
   ]
  },
  {
   "cell_type": "code",
   "execution_count": 46,
   "id": "48e89545-bb98-4c3f-aaa2-920d7c28de3a",
   "metadata": {},
   "outputs": [],
   "source": [
    "# 画像読込\n",
    "img = cv2.imread('./free_pic.jpg')\n",
    "\n",
    "# カーネルサイズ\n",
    "kernel = np.ones((4,4),np.uint8)\n",
    "# 収縮\n",
    "img_erode = cv2.morphologyEx(img, cv2.MORPH_OPEN, kernel)\n",
    "# 膨張\n",
    "img_dilate = cv2.morphologyEx(img, cv2.MORPH_CLOSE, kernel)\n",
    "\n",
    "#\n",
    "cv2.imwrite('./pic1.jpg', img_erode)\n",
    "cv2.imshow('img', img_erode)\n",
    "cv2.imwrite('./pic2.jpg', img_dilate)\n",
    "cv2.imshow('img2', img_dilate)\n",
    "\n",
    "cv2.waitKey(0)\n",
    "cv2.destroyAllWindows()"
   ]
  },
  {
   "cell_type": "markdown",
   "id": "0ac97db2-fb45-4e68-ac87-206a961a2920",
   "metadata": {},
   "source": [
    "### オブジェクト除去"
   ]
  },
  {
   "cell_type": "code",
   "execution_count": 5,
   "id": "28eb9757-0eaf-4403-b49c-7d6ac74d8a9e",
   "metadata": {},
   "outputs": [
    {
     "name": "stdout",
     "output_type": "stream",
     "text": [
      "480 640\n"
     ]
    }
   ],
   "source": [
    "# オブジェクト除去\n",
    "# img_gray = cv2.imread('./free_pic2.jpg', cv2.IMREAD_GRAYSCALE)\n",
    "img = cv2.imread('./free_pic2.jpg')\n",
    "\n",
    "#トリミング マスクしたい座標確認\n",
    "img = img[180:320, 180:320]\n",
    "\n",
    "print(width,height)\n",
    "\n",
    "\n",
    "# 表示と保存\n",
    "\n",
    "cv2.imwrite('./pic1.jpg', img)\n",
    "cv2.imshow('img',img)\n",
    "\n",
    "cv2.waitKey(0)\n",
    "cv2.destroyAllWindows()"
   ]
  },
  {
   "cell_type": "code",
   "execution_count": 93,
   "id": "f253a960-e48b-4113-b1cc-b233ed38c9f1",
   "metadata": {},
   "outputs": [],
   "source": [
    "# マスク画像作成\n",
    "mask = np.zeros((480, 640, 3),np.uint8)\n",
    "cv2.rectangle(mask, (180, 180), (320, 320), (255, 255, 255), -1)\n",
    "\n",
    "cv2.imwrite('./mask.jpg', mask)\n",
    "cv2.imshow('mask',mask)\n",
    "\n",
    "# 0キーで描画画面閉じる\n",
    "cv2.waitKey(0)\n",
    "cv2.destroyAllWindows()"
   ]
  },
  {
   "cell_type": "code",
   "execution_count": 96,
   "id": "e6d09eca-b650-422f-8aac-7b001e851369",
   "metadata": {},
   "outputs": [],
   "source": [
    "# 画像の削除したい位置に合わせたマスク画像でオブジェクト削除\n",
    "\n",
    "# 画像とマスク画像読み込み\n",
    "img = cv2.imread('./free_pic2.jpg')\n",
    "mask = cv2.imread('./mask.jpg', cv2.IMREAD_GRAYSCALE)\n",
    "\n",
    "# inpaint(img, マスク画像, 修復される点周りの半径, 修復手法)\n",
    "img_mask = cv2.inpaint(img, mask, 1, cv2.INPAINT_TELEA)\n",
    "\n",
    "# 保存と表示\n",
    "cv2.imwrite('./img_mask.jpg', img_mask)\n",
    "cv2.imshow('img_mask',img_mask)\n",
    "\n",
    "# 0キーで描画画面閉じる\n",
    "cv2.waitKey(0)\n",
    "cv2.destroyAllWindows()"
   ]
  },
  {
   "cell_type": "code",
   "execution_count": 6,
   "id": "f0381715-9b0d-437c-ade0-8d6eaf9246ed",
   "metadata": {},
   "outputs": [],
   "source": [
    "# 画像を白線で汚した後、閾値処理でマスク画像を生成し、オブジェクト除去\n",
    "\n",
    "# 画像読込\n",
    "img = cv2.imread('./free_pic.jpg')\n",
    "\n",
    "# 画像を汚す\n",
    "cv2.line(img, (150, 50), (400, 400), (255, 255, 255), thickness = 3)\n",
    "cv2.rectangle(img, (900, 800), (1000, 900), (255, 255, 255), -1)\n",
    "cv2.circle(img, (1250,550),80,(255,255,255), 1)\n",
    "cv2.circle(img, (1250,250),80,(255,255,255), 3)\n",
    "cv2.putText(img, 'Deep Learning', (200, 450), cv2.FONT_HERSHEY_SIMPLEX, 5.0, (255, 255, 255), 2)\n",
    "cv2.putText(img, 'Deep Learning', (200, 850), cv2.FONT_HERSHEY_SIMPLEX, 5.0, (255, 255, 255), 4)\n",
    "\n",
    "# 保存\n",
    "cv2.imwrite('./img_defile.jpg', img)\n",
    "\n",
    "# 閾値処理でマスクを作る\n",
    "mask = cv2.cvtColor(img, cv2.COLOR_RGB2GRAY)\n",
    "ret, mask = cv2.threshold(mask, 250, 255, cv2.THRESH_BINARY)\n",
    "\n",
    "#上手く線が除去できない場合はマスク画像を膨張させ、マスク領域を拡大するなどの工夫がある\n",
    "\"\"\"\n",
    "kernel = np.ones((4, 4), np.uint8)\n",
    "mask = cv2.dilate(mask, kernel)\n",
    "\"\"\"\n",
    "\n",
    "# マスク画像での除去実行\n",
    "img_mask = cv2.inpaint(img, mask, 1, cv2.INPAINT_TELEA)\n",
    "\n",
    "cv2.imwrite('./mask.jpg', mask)\n",
    "cv2.imwrite('./img_mask.jpg', img_mask)\n",
    "cv2.imshow('img_mask', img_mask)\n",
    "\n",
    "cv2.waitKey(0)\n",
    "cv2.destroyAllWindows()"
   ]
  }
 ],
 "metadata": {
  "kernelspec": {
   "display_name": "Python 3 (ipykernel)",
   "language": "python",
   "name": "python3"
  },
  "language_info": {
   "codemirror_mode": {
    "name": "ipython",
    "version": 3
   },
   "file_extension": ".py",
   "mimetype": "text/x-python",
   "name": "python",
   "nbconvert_exporter": "python",
   "pygments_lexer": "ipython3",
   "version": "3.9.12"
  }
 },
 "nbformat": 4,
 "nbformat_minor": 5
}
